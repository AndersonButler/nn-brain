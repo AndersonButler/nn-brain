{
 "cells": [
  {
   "cell_type": "markdown",
   "metadata": {},
   "source": [
    "## Visualizing gating variables in a LSTM\n",
    "\n",
    "Here we will train a one-unit LSTM network and visualize its gating variables."
   ]
  },
  {
   "cell_type": "code",
   "execution_count": 164,
   "metadata": {},
   "outputs": [],
   "source": [
    "import numpy as np\n",
    "\n",
    "def memory_task(seq_length, batch_size):\n",
    "    \"\"\"Return a batch from a simple memory task.\"\"\"\n",
    "    inputs = np.zeros((seq_length, batch_size, 3))\n",
    "    outputs = np.zeros((seq_length, batch_size, 1))\n",
    "\n",
    "    inputs[:, :, 0] = np.random.rand(seq_length, batch_size)\n",
    "    t_stim = np.random.randint(int(seq_length)/2, size=(batch_size,))\n",
    "    t_test = np.random.randint(int(seq_length)/2, seq_length-1, size=(batch_size,))\n",
    "    inputs[t_stim, range(batch_size), 1] = 1\n",
    "    inputs[t_test, range(batch_size), 2] = 1\n",
    "    \n",
    "    outputs[t_test, range(batch_size), 0] = inputs[t_stim, range(batch_size), 0]\n",
    "    \n",
    "    return inputs, outputs"
   ]
  },
  {
   "cell_type": "code",
   "execution_count": 165,
   "metadata": {},
   "outputs": [
    {
     "data": {
      "text/plain": [
       "([<matplotlib.axis.YTick at 0x12d54de90>],\n",
       " <a list of 1 Text yticklabel objects>)"
      ]
     },
     "execution_count": 165,
     "metadata": {},
     "output_type": "execute_result"
    },
    {
     "data": {
      "image/png": "[encoded data removed]",
      "text/plain": [
       "<Figure size 432x288 with 1 Axes>"
      ]
     },
     "metadata": {
      "needs_background": "light"
     },
     "output_type": "display_data"
    },
    {
     "data": {
      "image/png": "[encoded data removed]",
      "text/plain": [
       "<Figure size 432x288 with 1 Axes>"
      ]
     },
     "metadata": {
      "needs_background": "light"
     },
     "output_type": "display_data"
    }
   ],
   "source": [
    "import matplotlib.pyplot as plt\n",
    "\n",
    "inputs, outputs = memory_task(seq_length=100, batch_size=32)\n",
    "\n",
    "plt.figure()\n",
    "plt.imshow(inputs[:, 0, :].T, aspect='auto', vmin=-3, vmax=3, cmap='RdBu')\n",
    "# plt.plot(inputs[:, 0, :].T)\n",
    "plt.title('Sample trial inputs')\n",
    "plt.xlabel('Time step')\n",
    "plt.ylabel('Input units')\n",
    "plt.yticks([0, 1, 2])\n",
    "\n",
    "plt.figure()\n",
    "plt.imshow(outputs[:, 0, :].T, aspect='auto', vmin=-3, vmax=3, cmap='RdBu')\n",
    "plt.title('Sample trial target')\n",
    "plt.xlabel('Time step')\n",
    "plt.ylabel('Output unit')\n",
    "plt.yticks([0])"
   ]
  },
  {
   "cell_type": "markdown",
   "metadata": {},
   "source": [
    "###  Defining a LSTM network\n",
    "\n",
    "Here we define a LSTM network explicitly using raw pytorch so we can access its gating variables."
   ]
  },
  {
   "cell_type": "code",
   "execution_count": 166,
   "metadata": {},
   "outputs": [],
   "source": [
    "import torch\n",
    "import torch.nn as nn\n",
    "\n",
    "\n",
    "class MyLSTM(nn.Module):\n",
    "    \"\"\"Manual implementation of LSTM.\"\"\"\n",
    "\n",
    "    def __init__(self, input_size, hidden_size):\n",
    "        super().__init__()\n",
    "        self.input_size = input_size\n",
    "        self.hidden_size = hidden_size\n",
    "\n",
    "        self.input2h = nn.Linear(input_size, 4*hidden_size)\n",
    "        self.h2h = nn.Linear(hidden_size, 4*hidden_size)\n",
    "        \n",
    "        self.readout = False  # whether to readout activity\n",
    "\n",
    "    def init_hidden(self, input):\n",
    "        batch_size = input.shape[1]\n",
    "        return (torch.zeros(batch_size, self.hidden_size).to(input.device),\n",
    "                torch.zeros(batch_size, self.hidden_size).to(input.device))\n",
    "\n",
    "    def recurrence(self, input, hidden):\n",
    "        \"\"\"Recurrence helper.\"\"\"\n",
    "        \n",
    "        hx, cx = hidden\n",
    "        gates = self.input2h(input) + self.h2h(hx)\n",
    "        ingate, forgetgate, cellgate, outgate = gates.chunk(4, dim=1)\n",
    "\n",
    "        ingate = torch.sigmoid(ingate)\n",
    "        forgetgate = torch.sigmoid(forgetgate)\n",
    "        cellgate = torch.tanh(cellgate)\n",
    "        outgate = torch.sigmoid(outgate)\n",
    "\n",
    "        cy = (forgetgate * cx) + (ingate * cellgate)\n",
    "        hy = outgate * torch.tanh(cy)\n",
    "        \n",
    "        if self.readout:\n",
    "            return (hy, cy), (ingate, outgate, forgetgate)\n",
    "        else:\n",
    "            return hy, cy\n",
    "\n",
    "    def forward(self, input, hidden=None):\n",
    "        if hidden is None:\n",
    "            hidden = self.init_hidden(input)\n",
    "\n",
    "        if not self.readout:\n",
    "            # Regular forward\n",
    "            output = []\n",
    "            for i in range(input.size(0)):\n",
    "                hidden = self.recurrence(input[i], hidden)\n",
    "                output.append(hidden[0])\n",
    "\n",
    "            output = torch.stack(output, dim=0)\n",
    "            return output, hidden\n",
    "\n",
    "        else:\n",
    "            output = []\n",
    "            ingate, outgate, forgetgate = [], [], []\n",
    "            for i in range(input.size(0)):\n",
    "                hidden, gates = self.recurrence(input[i], hidden)\n",
    "                output.append(hidden[0])\n",
    "                ingate.append(gates[0])\n",
    "                outgate.append(gates[1])\n",
    "                forgetgate.append(gates[2])\n",
    "                \n",
    "            output = torch.stack(output, dim=0)\n",
    "            ingate = torch.stack(ingate, dim=0)\n",
    "            outgate = torch.stack(outgate, dim=0)\n",
    "            forgetgate = torch.stack(forgetgate, dim=0)\n",
    "            return output, hidden, (ingate, outgate, forgetgate)\n",
    "    \n",
    "\n",
    "class Net(nn.Module):\n",
    "    \"\"\"Recurrent network model.\"\"\"\n",
    "    def __init__(self, input_size, hidden_size, output_size, **kwargs):\n",
    "        super().__init__()\n",
    "\n",
    "        # self.rnn = nn.LSTM(input_size, hidden_size, **kwargs)\n",
    "        self.rnn = MyLSTM(input_size, hidden_size, **kwargs)\n",
    "        self.fc = nn.Linear(hidden_size, output_size)\n",
    "\n",
    "    def forward(self, x):\n",
    "        rnn_activity, _ = self.rnn(x)\n",
    "        out = self.fc(rnn_activity)\n",
    "        return out, rnn_activity"
   ]
  },
  {
   "cell_type": "code",
   "execution_count": 167,
   "metadata": {},
   "outputs": [
    {
     "name": "stdout",
     "output_type": "stream",
     "text": [
      "Step 400, Loss 0.0780\n",
      "Step 800, Loss 0.0086\n",
      "Step 1200, Loss 0.0085\n",
      "Step 1600, Loss 0.0084\n",
      "Step 2000, Loss 0.0083\n",
      "Step 2400, Loss 0.0083\n",
      "Step 2800, Loss 0.0082\n",
      "Step 3200, Loss 0.0082\n",
      "Step 3600, Loss 0.0083\n",
      "Step 4000, Loss 0.0077\n",
      "Step 4400, Loss 0.0014\n",
      "Step 4800, Loss 0.0005\n",
      "Step 5200, Loss 0.0003\n",
      "Step 5600, Loss 0.0002\n",
      "Step 6000, Loss 0.0002\n",
      "Step 6400, Loss 0.0001\n",
      "Step 6800, Loss 0.0001\n",
      "Step 7200, Loss 0.0001\n",
      "Step 7600, Loss 0.0001\n",
      "Step 8000, Loss 0.0001\n",
      "Step 8400, Loss 0.0001\n",
      "Step 8800, Loss 0.0000\n",
      "Step 9200, Loss 0.0000\n",
      "Step 9600, Loss 0.0000\n",
      "Step 10000, Loss 0.0000\n"
     ]
    }
   ],
   "source": [
    "import torch.optim as optim\n",
    "import time\n",
    "\n",
    "# Using custom LSTM, ~30% slower on CPUs compare to native LSTM\n",
    "# net = nn.LSTM(input_size=3, hidden_size=1)\n",
    "# net = MyLSTM(input_size=3, hidden_size=1)\n",
    "net = Net(input_size=3, hidden_size=1, output_size=1)\n",
    "\n",
    "# Use Adam optimizer\n",
    "optimizer = optim.Adam(net.parameters(), lr=0.01)\n",
    "criterion = nn.MSELoss()\n",
    "\n",
    "running_loss = 0\n",
    "start_time = time.time()\n",
    "\n",
    "for i in range(10000):    \n",
    "    inputs, labels = memory_task(seq_length=10, batch_size=16)\n",
    "    inputs = torch.from_numpy(inputs).type(torch.float)\n",
    "    labels = torch.from_numpy(labels).type(torch.float)\n",
    "\n",
    "    optimizer.zero_grad()   # zero the gradient buffers\n",
    "    output, activity = net(inputs)\n",
    "    \n",
    "    loss = criterion(output, labels)\n",
    "    loss.backward()\n",
    "    optimizer.step()    # Does the update\n",
    "\n",
    "    running_loss += loss.item()\n",
    "    if i % 400 == 399:\n",
    "        running_loss /= 400\n",
    "        print('Step {}, Loss {:0.4f}'.format(i+1, running_loss))\n",
    "#         print('Time per step {:0.3f}ms'.format((time.time()-start_time)/i*1e3))\n",
    "        running_loss = 0"
   ]
  },
  {
   "cell_type": "code",
   "execution_count": 190,
   "metadata": {},
   "outputs": [],
   "source": [
    "rnn = net.rnn\n",
    "\n",
    "rnn.readout = True\n",
    "\n",
    "inputs, labels = memory_task(seq_length=20, batch_size=16)\n",
    "inputs = torch.from_numpy(inputs).type(torch.float)\n",
    "\n",
    "with torch.no_grad():\n",
    "    rnn_activity, _, gates = rnn(inputs)\n",
    "    output = net.fc(rnn_activity)\n",
    "ingate, outgate, forgetgate = gates"
   ]
  },
  {
   "cell_type": "code",
   "execution_count": 198,
   "metadata": {},
   "outputs": [
    {
     "data": {
      "text/plain": [
       "<matplotlib.legend.Legend at 0x12e93d490>"
      ]
     },
     "execution_count": 198,
     "metadata": {},
     "output_type": "execute_result"
    },
    {
     "data": {
      "image/png": "[encoded data removed]",
      "text/plain": [
       "<Figure size 432x288 with 1 Axes>"
      ]
     },
     "metadata": {
      "needs_background": "light"
     },
     "output_type": "display_data"
    },
    {
     "data": {
      "image/png": "[encoded data removed]",
      "text/plain": [
       "<Figure size 432x288 with 1 Axes>"
      ]
     },
     "metadata": {
      "needs_background": "light"
     },
     "output_type": "display_data"
    },
    {
     "data": {
      "image/png": "[encoded data removed]",
      "text/plain": [
       "<Figure size 432x288 with 1 Axes>"
      ]
     },
     "metadata": {
      "needs_background": "light"
     },
     "output_type": "display_data"
    }
   ],
   "source": [
    "i_trial = 3\n",
    "plt.figure()\n",
    "plt.imshow(inputs[:, i_trial, :].T, aspect='auto', cmap='winter')\n",
    "\n",
    "plt.figure()\n",
    "plt.plot(labels[:, i_trial, 0], label='target')\n",
    "plt.plot(output.detach()[:, i_trial, 0], label='output')\n",
    "plt.legend()\n",
    "\n",
    "plt.figure()\n",
    "plt.plot(ingate[:, i_trial, 0], label='input')\n",
    "plt.plot(outgate[:, i_trial, 0], label='output')\n",
    "plt.plot(forgetgate[:, i_trial, 0], label='forget')\n",
    "plt.legend(title='gate')"
   ]
  },
  {
   "cell_type": "markdown",
   "metadata": {},
   "source": [
    "# Supplementary Materials\n",
    "\n",
    "Code for making publication quality figures as it appears in the paper."
   ]
  },
  {
   "cell_type": "code",
   "execution_count": 196,
   "metadata": {},
   "outputs": [
    {
     "data": {
      "image/png": "[encoded data removed]",
      "text/plain": [
       "<Figure size 216x216 with 4 Axes>"
      ]
     },
     "metadata": {
      "needs_background": "light"
     },
     "output_type": "display_data"
    }
   ],
   "source": [
    "import matplotlib as mpl\n",
    "mpl.rcParams['font.size'] = 7\n",
    "mpl.rcParams['font.family'] = 'arial'\n",
    "\n",
    "i_trial = 1\n",
    "\n",
    "fig, axes = plt.subplots(4, 1, sharex=True, figsize=(3, 3))\n",
    "for i in range(4):\n",
    "    ax = axes[i]\n",
    "    kwargs = {'marker': 'o', 'markersize': 3}\n",
    "    cmap = mpl.cm.get_cmap('Set1')\n",
    "    title = None\n",
    "    if i == 0:\n",
    "        ax.plot(inputs[:, i_trial, 0], label='stimulus', color=cmap(0), **kwargs)\n",
    "        title = 'Input'\n",
    "    elif i == 1:\n",
    "        ax.plot(inputs[:, i_trial, 1], label='memorize', color=cmap(0), **kwargs)\n",
    "        ax.plot(inputs[:, i_trial, 2], label='report', color=cmap(1), **kwargs)\n",
    "        title = 'Input'\n",
    "    elif i == 2:\n",
    "        ax.plot(labels[:, i_trial, 0], label='target', color=cmap(0), **kwargs)\n",
    "        ax.plot(output.detach()[:, i_trial, 0], label='predicted', color=cmap(1), **kwargs)\n",
    "        title = 'Output'\n",
    "    else:\n",
    "        ax.plot(ingate[:, i_trial, 0], label='input', color=cmap(0), **kwargs)\n",
    "        ax.plot(outgate[:, i_trial, 0], label='output', color=cmap(1), **kwargs)\n",
    "        ax.plot(forgetgate[:, i_trial, 0], label='forget', color=cmap(2), **kwargs)\n",
    "        title = 'Gate'\n",
    "        ax.set_xlabel('Time step')\n",
    "    \n",
    "    l = ax.legend(loc='center left', bbox_to_anchor=(1, 0.5),\n",
    "                  frameon=False, title=title)\n",
    "    ax.spines['top'].set_visible(False)\n",
    "    ax.spines['right'].set_visible(False)\n",
    "    ax.set_ylim([-0.15, 1.15])\n",
    "    ax.set_yticks([0, 1])\n",
    "plt.tight_layout()\n",
    "    \n",
    "from pathlib import Path\n",
    "fname = Path('figures/lstmvisualization')\n",
    "fig.savefig(fname.with_suffix('.pdf'), transparent=True)\n",
    "fig.savefig(fname.with_suffix('.png'), dpi=300)"
   ]
  }
 ],
 "metadata": {
  "kernelspec": {
   "display_name": "Python 3",
   "language": "python",
   "name": "python3"
  },
  "language_info": {
   "codemirror_mode": {
    "name": "ipython",
    "version": 3
   },
   "file_extension": ".py",
   "mimetype": "text/x-python",
   "name": "python",
   "nbconvert_exporter": "python",
   "pygments_lexer": "ipython3",
   "version": "3.7.4"
  }
 },
 "nbformat": 4,
 "nbformat_minor": 4
}
